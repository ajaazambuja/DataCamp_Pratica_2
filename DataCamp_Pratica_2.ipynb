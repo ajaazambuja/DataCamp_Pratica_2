{
  "nbformat": 4,
  "nbformat_minor": 0,
  "metadata": {
    "colab": {
      "provenance": []
    },
    "kernelspec": {
      "name": "python3",
      "display_name": "Python 3"
    },
    "language_info": {
      "name": "python"
    }
  },
  "cells": [
    {
      "cell_type": "code",
      "source": [
        "pip install groq"
      ],
      "metadata": {
        "colab": {
          "base_uri": "https://localhost:8080/"
        },
        "id": "SBnnpWfrnuds",
        "outputId": "26a5f788-6e80-464a-8ef3-53c05da1f7d0"
      },
      "execution_count": 1,
      "outputs": [
        {
          "output_type": "stream",
          "name": "stdout",
          "text": [
            "Collecting groq\n",
            "  Downloading groq-0.30.0-py3-none-any.whl.metadata (16 kB)\n",
            "Requirement already satisfied: anyio<5,>=3.5.0 in /usr/local/lib/python3.11/dist-packages (from groq) (4.9.0)\n",
            "Requirement already satisfied: distro<2,>=1.7.0 in /usr/local/lib/python3.11/dist-packages (from groq) (1.9.0)\n",
            "Requirement already satisfied: httpx<1,>=0.23.0 in /usr/local/lib/python3.11/dist-packages (from groq) (0.28.1)\n",
            "Requirement already satisfied: pydantic<3,>=1.9.0 in /usr/local/lib/python3.11/dist-packages (from groq) (2.11.7)\n",
            "Requirement already satisfied: sniffio in /usr/local/lib/python3.11/dist-packages (from groq) (1.3.1)\n",
            "Requirement already satisfied: typing-extensions<5,>=4.10 in /usr/local/lib/python3.11/dist-packages (from groq) (4.14.1)\n",
            "Requirement already satisfied: idna>=2.8 in /usr/local/lib/python3.11/dist-packages (from anyio<5,>=3.5.0->groq) (3.10)\n",
            "Requirement already satisfied: certifi in /usr/local/lib/python3.11/dist-packages (from httpx<1,>=0.23.0->groq) (2025.7.14)\n",
            "Requirement already satisfied: httpcore==1.* in /usr/local/lib/python3.11/dist-packages (from httpx<1,>=0.23.0->groq) (1.0.9)\n",
            "Requirement already satisfied: h11>=0.16 in /usr/local/lib/python3.11/dist-packages (from httpcore==1.*->httpx<1,>=0.23.0->groq) (0.16.0)\n",
            "Requirement already satisfied: annotated-types>=0.6.0 in /usr/local/lib/python3.11/dist-packages (from pydantic<3,>=1.9.0->groq) (0.7.0)\n",
            "Requirement already satisfied: pydantic-core==2.33.2 in /usr/local/lib/python3.11/dist-packages (from pydantic<3,>=1.9.0->groq) (2.33.2)\n",
            "Requirement already satisfied: typing-inspection>=0.4.0 in /usr/local/lib/python3.11/dist-packages (from pydantic<3,>=1.9.0->groq) (0.4.1)\n",
            "Downloading groq-0.30.0-py3-none-any.whl (131 kB)\n",
            "\u001b[?25l   \u001b[90m━━━━━━━━━━━━━━━━━━━━━━━━━━━━━━━━━━━━━━━━\u001b[0m \u001b[32m0.0/131.1 kB\u001b[0m \u001b[31m?\u001b[0m eta \u001b[36m-:--:--\u001b[0m\r\u001b[2K   \u001b[90m━━━━━━━━━━━━━━━━━━━━━━━━━━━━━━━━━━━━━━━━\u001b[0m \u001b[32m131.1/131.1 kB\u001b[0m \u001b[31m6.5 MB/s\u001b[0m eta \u001b[36m0:00:00\u001b[0m\n",
            "\u001b[?25hInstalling collected packages: groq\n",
            "Successfully installed groq-0.30.0\n"
          ]
        }
      ]
    },
    {
      "cell_type": "code",
      "source": [
        "import os\n",
        "from groq import Groq\n",
        "\n",
        "from google.colab import userdata\n",
        "os.environ['GROQ_API_KEY'] = userdata.get('GROQ_API_KEY')\n",
        "\n",
        "client = Groq(\n",
        "    api_key=os.environ.get(\"GROQ_API_KEY\"),\n",
        ")\n",
        "\n",
        "chat_completion = client.chat.completions.create(\n",
        "    messages=[\n",
        "        {\n",
        "            \"role\": \"user\",\n",
        "            \"content\": \"Explain the importance of fast language models\",\n",
        "        }\n",
        "    ],\n",
        "    model=\"llama3-70b-8192\",\n",
        ")\n",
        "\n",
        "print(chat_completion.choices[0].message.content)"
      ],
      "metadata": {
        "colab": {
          "base_uri": "https://localhost:8080/"
        },
        "id": "fcKc4IoMp1YD",
        "outputId": "0742284b-480f-4fe5-f9de-4e1ba0e1eeb4"
      },
      "execution_count": 2,
      "outputs": [
        {
          "output_type": "stream",
          "name": "stdout",
          "text": [
            "Fast language models have become crucial in modern natural language processing (NLP) and artificial intelligence (AI) applications. The importance of fast language models can be attributed to several factors:\n",
            "\n",
            "1. **Real-time Processing**: Fast language models enable real-time processing of large volumes of text data, allowing for timely insights, responses, or decisions to be made. This is particularly important in applications such as chatbots, virtual assistants, and sentiment analysis.\n",
            "2. **Scalability**: Fast language models can handle large datasets and scale efficiently, making them suitable for big data and distributed computing environments. This enables the processing of massive amounts of text data, which is essential for applications like search engines, recommender systems, and language translation.\n",
            "3. **Low Latency**: Fast language models reduce latency, making them suitable for applications that require rapid responses, such as voice assistants, language translation, and text summarization.\n",
            "4. **Energy Efficiency**: Fast language models can be more energy-efficient, which is critical for battery-powered devices, edge computing, and environmentally sustainable AI systems.\n",
            "5. **Cost-Effectiveness**: Fast language models can reduce computational costs, making them more cost-effective for large-scale NLP applications, such as text classification, sentiment analysis, and topic modeling.\n",
            "6. **Improved Accuracy**: Fast language models can lead to improved accuracy in certain NLP tasks, such as language modeling, machine translation, and question-answering, by allowing for more iterations and experiments within a given timeframe.\n",
            "7. **Real-time Feedback**: Fast language models enable real-time feedback and correction, which is essential for applications like language learning, spell checking, and grammar correction.\n",
            "8. **Edge AI**: Fast language models are crucial for edge AI applications, where models need to run on resource-constrained devices, such as smart home devices, autonomous vehicles, and wearables.\n",
            "9. **Explainability and Interpretability**: Fast language models can facilitate explainability and interpretability in NLP models, enabling developers to understand how models arrive at their predictions and decisions.\n",
            "10. **Advancements in NLP Research**: Fast language models can accelerate NLP research, enabling researchers to explore new ideas, experiment with different architectures, and refine existing models more quickly.\n",
            "\n",
            "Some examples of fast language models include:\n",
            "\n",
            "1. **BERT-Lite**: A compact version of BERT, which achieves similar accuracy with up to 4x faster inference speed.\n",
            "2. **DistilBERT**: A distilled version of BERT, which achieves similar accuracy with up to 60% fewer parameters and faster inference speed.\n",
            "3. **ALBERT**: A fast and efficient language model that uses a novel architecture to reduce computational costs while maintaining accuracy.\n",
            "4. ** MobileBERT**: A lightweight language model designed for mobile devices, which achieves fast inference speed and energy efficiency.\n",
            "\n",
            "In summary, fast language models are essential for many NLP applications, enabling real-time processing, scalability, low latency, energy efficiency, cost-effectiveness, improved accuracy, and real-time feedback.\n"
          ]
        }
      ]
    },
    {
      "cell_type": "code",
      "source": [
        "class Agent:\n",
        "  def __init__(self, client, system):\n",
        "      self.client = client\n",
        "      self.system = system\n",
        "      self.messages = []\n",
        "      if self.system is not None:\n",
        "          self.messages.append({\"role\": \"system\", \"content\": self.system})\n",
        "\n",
        "  def __call__(self, message=\"\"):\n",
        "      if message:\n",
        "        self.messages.append({\"role\": \"user\", \"content\": message})\n",
        "        result = self.execute()\n",
        "        self.messages.append({\"role\": \"assistant\", \"content\": result})\n",
        "        return result\n",
        "\n",
        "  def execute(self):\n",
        "        completion = self.client.chat.completions.create(\n",
        "            messages=self.messages,\n",
        "            model=\"llama3-70b-8192\",\n",
        "      )\n",
        "        return completion.choices[0].message.content"
      ],
      "metadata": {
        "id": "XzpvbI6skCBn"
      },
      "execution_count": 3,
      "outputs": []
    },
    {
      "cell_type": "code",
      "source": [
        "system_prompt=\"\"\"\n",
        "You run in a loop of Thought, Action, PAUSE, Observation.\n",
        "At the end of the loop you output an Answer\n",
        "Use Thought to describe your thoughts about the question you have been asked.\n",
        "Use Action to run one of the actions available to you - then return PAUSE.\n",
        "Observation will be the result of running those actions.\n",
        "\n",
        "Your available actions are:\n",
        "\n",
        "calculate:\n",
        "e.g. calculate: 4 * 7 / 3\n",
        "Runs a calculation and returns the number - uses Python so be sure to use floating point syntax if necessary\n",
        "\n",
        "wikipedia:\n",
        "e.g. wikipedia: Django\n",
        "Returns a summary from searching Wikipedia\n",
        "\n",
        "simon_blog_search:\n",
        "e.g. simon_blog_search: Django\n",
        "Search Simon's blog for that term\n",
        "\n",
        "Always look things up on Wikipedia if you have the opportunity to do so.\n",
        "\n",
        "Example session:\n",
        "\n",
        "Question: What is the capital of France?\n",
        "Thought: I should look up France on Wikipedia\n",
        "Action: wikipedia: France\n",
        "PAUSE\n",
        "\n",
        "You will be called again with this:\n",
        "\n",
        "Observation: France is a country. The capital is Paris.\n",
        "\n",
        "You then output:\n",
        "\n",
        "Answer: The capital of France is Paris\n",
        "\"\"\".strip()"
      ],
      "metadata": {
        "id": "hZOfUmdpgI7k"
      },
      "execution_count": 4,
      "outputs": []
    },
    {
      "cell_type": "code",
      "source": [
        "# tools\n",
        "\n",
        "def calculate(operation):\n",
        "    return eval(operation)\n",
        "\n",
        "def simon_blog_search(capital):\n",
        "    match capital.lower():\n",
        "        case \"paris\":\n",
        "            return \"Paris is the capital of France\"\n",
        "        case \"london\":\n",
        "            return \"London is the capital of England\"\n",
        "        case \"berlin\":\n",
        "           return \"Berlin is the capital of Germany\"\n",
        "        case _:\n",
        "            return \"I don't know the capital of that country\"\n"
      ],
      "metadata": {
        "id": "6QtH1xArzEUx"
      },
      "execution_count": 5,
      "outputs": []
    },
    {
      "cell_type": "code",
      "source": [
        "antonio_azambuja = Agent(client, system_prompt)"
      ],
      "metadata": {
        "id": "4redHmGZVhwc"
      },
      "execution_count": 6,
      "outputs": []
    },
    {
      "cell_type": "code",
      "source": [
        "result = antonio_azambuja(\"What is the capital of England?\")\n",
        "print(result)"
      ],
      "metadata": {
        "colab": {
          "base_uri": "https://localhost:8080/"
        },
        "id": "YQtrad5NVtZi",
        "outputId": "f2220a32-795f-4600-b5f0-cad99a7abde7"
      },
      "execution_count": 7,
      "outputs": [
        {
          "output_type": "stream",
          "name": "stdout",
          "text": [
            "Thought: I should look up England on Wikipedia to find its capital.\n",
            "\n",
            "Action: wikipedia: England\n",
            "PAUSE\n"
          ]
        }
      ]
    },
    {
      "cell_type": "code",
      "source": [
        "antonio_azambuja.messages"
      ],
      "metadata": {
        "colab": {
          "base_uri": "https://localhost:8080/"
        },
        "id": "tXhscRjNW3Bv",
        "outputId": "91fb076b-8129-4820-c7be-debe1a10e887"
      },
      "execution_count": 8,
      "outputs": [
        {
          "output_type": "execute_result",
          "data": {
            "text/plain": [
              "[{'role': 'system',\n",
              "  'content': \"You run in a loop of Thought, Action, PAUSE, Observation.\\nAt the end of the loop you output an Answer\\nUse Thought to describe your thoughts about the question you have been asked.\\nUse Action to run one of the actions available to you - then return PAUSE.\\nObservation will be the result of running those actions.\\n\\nYour available actions are:\\n\\ncalculate:\\ne.g. calculate: 4 * 7 / 3\\nRuns a calculation and returns the number - uses Python so be sure to use floating point syntax if necessary\\n\\nwikipedia:\\ne.g. wikipedia: Django\\nReturns a summary from searching Wikipedia\\n\\nsimon_blog_search:\\ne.g. simon_blog_search: Django\\nSearch Simon's blog for that term\\n\\nAlways look things up on Wikipedia if you have the opportunity to do so.\\n\\nExample session:\\n\\nQuestion: What is the capital of France?\\nThought: I should look up France on Wikipedia\\nAction: wikipedia: France\\nPAUSE\\n\\nYou will be called again with this:\\n\\nObservation: France is a country. The capital is Paris.\\n\\nYou then output:\\n\\nAnswer: The capital of France is Paris\"},\n",
              " {'role': 'user', 'content': 'What is the capital of England?'},\n",
              " {'role': 'assistant',\n",
              "  'content': 'Thought: I should look up England on Wikipedia to find its capital.\\n\\nAction: wikipedia: England\\nPAUSE'}]"
            ]
          },
          "metadata": {},
          "execution_count": 8
        }
      ]
    },
    {
      "cell_type": "code",
      "source": [
        "result = antonio_azambuja()\n",
        "print(result)"
      ],
      "metadata": {
        "colab": {
          "base_uri": "https://localhost:8080/"
        },
        "id": "kbg3idRdXYmt",
        "outputId": "14f2dd73-8a3e-4cb8-c3a4-ed16a0bde1ea"
      },
      "execution_count": 9,
      "outputs": [
        {
          "output_type": "stream",
          "name": "stdout",
          "text": [
            "None\n"
          ]
        }
      ]
    },
    {
      "cell_type": "code",
      "source": [
        "observation = simon_blog_search(\"England\")\n",
        "print(observation)"
      ],
      "metadata": {
        "colab": {
          "base_uri": "https://localhost:8080/"
        },
        "id": "Y6YRJQurX2qB",
        "outputId": "83b1fd7a-739c-4821-88f4-8b75e0544c53"
      },
      "execution_count": 10,
      "outputs": [
        {
          "output_type": "stream",
          "name": "stdout",
          "text": [
            "I don't know the capital of that country\n"
          ]
        }
      ]
    },
    {
      "cell_type": "code",
      "source": [
        "next_prompt = f\"Observation: {observation}\"\n",
        "result = antonio_azambuja(next_prompt)\n",
        "print(result)"
      ],
      "metadata": {
        "colab": {
          "base_uri": "https://localhost:8080/"
        },
        "id": "tOO1s_t6Z1cp",
        "outputId": "e843f48e-227c-4ce6-ec75-0268964476a7"
      },
      "execution_count": 11,
      "outputs": [
        {
          "output_type": "stream",
          "name": "stdout",
          "text": [
            "Thought: Hmm, Wikipedia should have provided the information. Let me try again to get the information about England from Wikipedia.\n",
            "\n",
            "Action: wikipedia: England\n",
            "PAUSE\n"
          ]
        }
      ]
    },
    {
      "cell_type": "code",
      "source": [
        "antonio_azambuja.messages"
      ],
      "metadata": {
        "colab": {
          "base_uri": "https://localhost:8080/"
        },
        "id": "NOEuTQvGb2UZ",
        "outputId": "99f6744d-e49e-42ac-9474-31f31be905a5"
      },
      "execution_count": 12,
      "outputs": [
        {
          "output_type": "execute_result",
          "data": {
            "text/plain": [
              "[{'role': 'system',\n",
              "  'content': \"You run in a loop of Thought, Action, PAUSE, Observation.\\nAt the end of the loop you output an Answer\\nUse Thought to describe your thoughts about the question you have been asked.\\nUse Action to run one of the actions available to you - then return PAUSE.\\nObservation will be the result of running those actions.\\n\\nYour available actions are:\\n\\ncalculate:\\ne.g. calculate: 4 * 7 / 3\\nRuns a calculation and returns the number - uses Python so be sure to use floating point syntax if necessary\\n\\nwikipedia:\\ne.g. wikipedia: Django\\nReturns a summary from searching Wikipedia\\n\\nsimon_blog_search:\\ne.g. simon_blog_search: Django\\nSearch Simon's blog for that term\\n\\nAlways look things up on Wikipedia if you have the opportunity to do so.\\n\\nExample session:\\n\\nQuestion: What is the capital of France?\\nThought: I should look up France on Wikipedia\\nAction: wikipedia: France\\nPAUSE\\n\\nYou will be called again with this:\\n\\nObservation: France is a country. The capital is Paris.\\n\\nYou then output:\\n\\nAnswer: The capital of France is Paris\"},\n",
              " {'role': 'user', 'content': 'What is the capital of England?'},\n",
              " {'role': 'assistant',\n",
              "  'content': 'Thought: I should look up England on Wikipedia to find its capital.\\n\\nAction: wikipedia: England\\nPAUSE'},\n",
              " {'role': 'user',\n",
              "  'content': \"Observation: I don't know the capital of that country\"},\n",
              " {'role': 'assistant',\n",
              "  'content': 'Thought: Hmm, Wikipedia should have provided the information. Let me try again to get the information about England from Wikipedia.\\n\\nAction: wikipedia: England\\nPAUSE'}]"
            ]
          },
          "metadata": {},
          "execution_count": 12
        }
      ]
    },
    {
      "cell_type": "code",
      "source": [
        "result = antonio_azambuja()\n",
        "print(result)"
      ],
      "metadata": {
        "colab": {
          "base_uri": "https://localhost:8080/"
        },
        "id": "3g2uO4KHcR9c",
        "outputId": "22d6561c-5478-4135-9c36-2d9e403e5308"
      },
      "execution_count": 13,
      "outputs": [
        {
          "output_type": "stream",
          "name": "stdout",
          "text": [
            "None\n"
          ]
        }
      ]
    },
    {
      "cell_type": "code",
      "source": [
        "result = calculate(\"4 * 7 / 3\")\n",
        "print(result)"
      ],
      "metadata": {
        "colab": {
          "base_uri": "https://localhost:8080/"
        },
        "id": "k221-dOYcf3g",
        "outputId": "91c479bd-3bf6-4071-a691-983410ce059f"
      },
      "execution_count": 14,
      "outputs": [
        {
          "output_type": "stream",
          "name": "stdout",
          "text": [
            "9.333333333333334\n"
          ]
        }
      ]
    },
    {
      "cell_type": "code",
      "source": [
        "observation = calculate(\"4 * 7 / 3\")\n",
        "print(observation)"
      ],
      "metadata": {
        "colab": {
          "base_uri": "https://localhost:8080/"
        },
        "id": "QQNL29GrcpNm",
        "outputId": "50bb17b1-30be-43a6-ce26-a1b3e3df80e3"
      },
      "execution_count": 15,
      "outputs": [
        {
          "output_type": "stream",
          "name": "stdout",
          "text": [
            "9.333333333333334\n"
          ]
        }
      ]
    },
    {
      "cell_type": "code",
      "source": [
        "next_prompt = f\"Observation: {observation}\"\n",
        "result = antonio_azambuja(next_prompt)\n",
        "print(result)"
      ],
      "metadata": {
        "colab": {
          "base_uri": "https://localhost:8080/"
        },
        "id": "ks61I5R9c2hI",
        "outputId": "274bc10a-929d-4c31-ccf5-1c1041b7eb6f"
      },
      "execution_count": 16,
      "outputs": [
        {
          "output_type": "stream",
          "name": "stdout",
          "text": [
            "Thought: That doesn't seem to be the information I was looking for. I think there was an error. Let me try again to get the information about England from Wikipedia.\n",
            "\n",
            "Action: wikipedia: England\n",
            "PAUSE\n"
          ]
        }
      ]
    },
    {
      "cell_type": "code",
      "source": [
        "antonio_azambuja.messages"
      ],
      "metadata": {
        "colab": {
          "base_uri": "https://localhost:8080/"
        },
        "id": "tJqyl3CadG0k",
        "outputId": "b735551d-0586-4623-e775-9780db321548"
      },
      "execution_count": 17,
      "outputs": [
        {
          "output_type": "execute_result",
          "data": {
            "text/plain": [
              "[{'role': 'system',\n",
              "  'content': \"You run in a loop of Thought, Action, PAUSE, Observation.\\nAt the end of the loop you output an Answer\\nUse Thought to describe your thoughts about the question you have been asked.\\nUse Action to run one of the actions available to you - then return PAUSE.\\nObservation will be the result of running those actions.\\n\\nYour available actions are:\\n\\ncalculate:\\ne.g. calculate: 4 * 7 / 3\\nRuns a calculation and returns the number - uses Python so be sure to use floating point syntax if necessary\\n\\nwikipedia:\\ne.g. wikipedia: Django\\nReturns a summary from searching Wikipedia\\n\\nsimon_blog_search:\\ne.g. simon_blog_search: Django\\nSearch Simon's blog for that term\\n\\nAlways look things up on Wikipedia if you have the opportunity to do so.\\n\\nExample session:\\n\\nQuestion: What is the capital of France?\\nThought: I should look up France on Wikipedia\\nAction: wikipedia: France\\nPAUSE\\n\\nYou will be called again with this:\\n\\nObservation: France is a country. The capital is Paris.\\n\\nYou then output:\\n\\nAnswer: The capital of France is Paris\"},\n",
              " {'role': 'user', 'content': 'What is the capital of England?'},\n",
              " {'role': 'assistant',\n",
              "  'content': 'Thought: I should look up England on Wikipedia to find its capital.\\n\\nAction: wikipedia: England\\nPAUSE'},\n",
              " {'role': 'user',\n",
              "  'content': \"Observation: I don't know the capital of that country\"},\n",
              " {'role': 'assistant',\n",
              "  'content': 'Thought: Hmm, Wikipedia should have provided the information. Let me try again to get the information about England from Wikipedia.\\n\\nAction: wikipedia: England\\nPAUSE'},\n",
              " {'role': 'user', 'content': 'Observation: 9.333333333333334'},\n",
              " {'role': 'assistant',\n",
              "  'content': \"Thought: That doesn't seem to be the information I was looking for. I think there was an error. Let me try again to get the information about England from Wikipedia.\\n\\nAction: wikipedia: England\\nPAUSE\"}]"
            ]
          },
          "metadata": {},
          "execution_count": 17
        }
      ]
    }
  ]
}